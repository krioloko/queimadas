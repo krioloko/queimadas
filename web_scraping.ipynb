{
 "cells": [
  {
   "cell_type": "code",
   "execution_count": 123,
   "metadata": {},
   "outputs": [],
   "source": [
    "import requests\n",
    "from bs4 import BeautifulSoup\n",
    "import pandas as pd\n",
    "#from itertools import produt\n",
    "#from google.colab import files"
   ]
  },
  {
   "cell_type": "code",
   "execution_count": 135,
   "metadata": {},
   "outputs": [],
   "source": [
    "DOMAIN = \"https://dataserver-coids.inpe.br\"\n",
    "URL = f'{DOMAIN}/queimadas/queimadas/focos/csv/diario/Brasil/'\n",
    "HEADERS = {'User-Agent': 'Mozilla/5.0 (Windows NT 10.0; Win64; x64) AppleWebKit/537.36 (KHTML, like Gecko) Chrome/58.0.3029.110 Safari/537.36'}"
   ]
  },
  {
   "cell_type": "code",
   "execution_count": 136,
   "metadata": {},
   "outputs": [],
   "source": [
    "def get_page_content(url, headers):\n",
    "  response = requests.get(url, headers=headers).text\n",
    "  soup = BeautifulSoup(response, 'html.parser')\n",
    "  return soup"
   ]
  },
  {
   "cell_type": "code",
   "execution_count": 137,
   "metadata": {},
   "outputs": [],
   "source": [
    "def parse_csv_list(soup):\n",
    "  table = soup.find('div', {'class': 'table'})\n",
    "  list_csv = []\n",
    "  rows = table.find_all('div', class_ = 'row')\n",
    "\n",
    "  for row in rows:\n",
    "    name_cell = row.find('div', class_ = 'name').find('a')\n",
    "\n",
    "    if name_cell:\n",
    "      file_name =  name_cell.get_text(strip=True)\n",
    "      file_href = URL + name_cell['href']\n",
    "\n",
    "      csv_data = {\n",
    "        'name': file_name,\n",
    "        'link': file_href\n",
    "      }\n",
    "      list_csv.append(csv_data)\n",
    "\n",
    "  return list_csv\n"
   ]
  },
  {
   "cell_type": "code",
   "execution_count": 138,
   "metadata": {},
   "outputs": [
    {
     "name": "stdout",
     "output_type": "stream",
     "text": [
      "[{'name': 'focos_diario_br_20240906.csv', 'link': 'https://dataserver-coids.inpe.br/queimadas/queimadas/focos/csv/diario/Brasil/focos_diario_br_20240906.csv'}, {'name': 'focos_diario_br_20240907.csv', 'link': 'https://dataserver-coids.inpe.br/queimadas/queimadas/focos/csv/diario/Brasil/focos_diario_br_20240907.csv'}, {'name': 'focos_diario_br_20240908.csv', 'link': 'https://dataserver-coids.inpe.br/queimadas/queimadas/focos/csv/diario/Brasil/focos_diario_br_20240908.csv'}, {'name': 'focos_diario_br_20240909.csv', 'link': 'https://dataserver-coids.inpe.br/queimadas/queimadas/focos/csv/diario/Brasil/focos_diario_br_20240909.csv'}, {'name': 'focos_diario_br_20240910.csv', 'link': 'https://dataserver-coids.inpe.br/queimadas/queimadas/focos/csv/diario/Brasil/focos_diario_br_20240910.csv'}, {'name': 'focos_diario_br_20240911.csv', 'link': 'https://dataserver-coids.inpe.br/queimadas/queimadas/focos/csv/diario/Brasil/focos_diario_br_20240911.csv'}, {'name': 'focos_diario_br_20240912.csv', 'link': 'https://dataserver-coids.inpe.br/queimadas/queimadas/focos/csv/diario/Brasil/focos_diario_br_20240912.csv'}, {'name': 'focos_diario_br_20240913.csv', 'link': 'https://dataserver-coids.inpe.br/queimadas/queimadas/focos/csv/diario/Brasil/focos_diario_br_20240913.csv'}, {'name': 'focos_diario_br_20240914.csv', 'link': 'https://dataserver-coids.inpe.br/queimadas/queimadas/focos/csv/diario/Brasil/focos_diario_br_20240914.csv'}, {'name': 'focos_diario_br_20240915.csv', 'link': 'https://dataserver-coids.inpe.br/queimadas/queimadas/focos/csv/diario/Brasil/focos_diario_br_20240915.csv'}, {'name': 'focos_diario_br_20240916.csv', 'link': 'https://dataserver-coids.inpe.br/queimadas/queimadas/focos/csv/diario/Brasil/focos_diario_br_20240916.csv'}, {'name': 'focos_diario_br_20240917.csv', 'link': 'https://dataserver-coids.inpe.br/queimadas/queimadas/focos/csv/diario/Brasil/focos_diario_br_20240917.csv'}, {'name': 'focos_diario_br_20240918.csv', 'link': 'https://dataserver-coids.inpe.br/queimadas/queimadas/focos/csv/diario/Brasil/focos_diario_br_20240918.csv'}, {'name': 'focos_diario_br_20240919.csv', 'link': 'https://dataserver-coids.inpe.br/queimadas/queimadas/focos/csv/diario/Brasil/focos_diario_br_20240919.csv'}, {'name': 'focos_diario_br_20240920.csv', 'link': 'https://dataserver-coids.inpe.br/queimadas/queimadas/focos/csv/diario/Brasil/focos_diario_br_20240920.csv'}, {'name': 'focos_diario_br_20240921.csv', 'link': 'https://dataserver-coids.inpe.br/queimadas/queimadas/focos/csv/diario/Brasil/focos_diario_br_20240921.csv'}, {'name': 'focos_diario_br_20240922.csv', 'link': 'https://dataserver-coids.inpe.br/queimadas/queimadas/focos/csv/diario/Brasil/focos_diario_br_20240922.csv'}, {'name': 'focos_diario_br_20240923.csv', 'link': 'https://dataserver-coids.inpe.br/queimadas/queimadas/focos/csv/diario/Brasil/focos_diario_br_20240923.csv'}, {'name': 'focos_diario_br_20240924.csv', 'link': 'https://dataserver-coids.inpe.br/queimadas/queimadas/focos/csv/diario/Brasil/focos_diario_br_20240924.csv'}, {'name': 'focos_diario_br_20240925.csv', 'link': 'https://dataserver-coids.inpe.br/queimadas/queimadas/focos/csv/diario/Brasil/focos_diario_br_20240925.csv'}, {'name': 'focos_diario_br_20240926.csv', 'link': 'https://dataserver-coids.inpe.br/queimadas/queimadas/focos/csv/diario/Brasil/focos_diario_br_20240926.csv'}, {'name': 'focos_diario_br_20240927.csv', 'link': 'https://dataserver-coids.inpe.br/queimadas/queimadas/focos/csv/diario/Brasil/focos_diario_br_20240927.csv'}, {'name': 'focos_diario_br_20240928.csv', 'link': 'https://dataserver-coids.inpe.br/queimadas/queimadas/focos/csv/diario/Brasil/focos_diario_br_20240928.csv'}, {'name': 'focos_diario_br_20240929.csv', 'link': 'https://dataserver-coids.inpe.br/queimadas/queimadas/focos/csv/diario/Brasil/focos_diario_br_20240929.csv'}, {'name': 'focos_diario_br_20240930.csv', 'link': 'https://dataserver-coids.inpe.br/queimadas/queimadas/focos/csv/diario/Brasil/focos_diario_br_20240930.csv'}, {'name': 'focos_diario_br_20241001.csv', 'link': 'https://dataserver-coids.inpe.br/queimadas/queimadas/focos/csv/diario/Brasil/focos_diario_br_20241001.csv'}, {'name': 'focos_diario_br_20241002.csv', 'link': 'https://dataserver-coids.inpe.br/queimadas/queimadas/focos/csv/diario/Brasil/focos_diario_br_20241002.csv'}, {'name': 'focos_diario_br_20241003.csv', 'link': 'https://dataserver-coids.inpe.br/queimadas/queimadas/focos/csv/diario/Brasil/focos_diario_br_20241003.csv'}, {'name': 'focos_diario_br_20241004.csv', 'link': 'https://dataserver-coids.inpe.br/queimadas/queimadas/focos/csv/diario/Brasil/focos_diario_br_20241004.csv'}, {'name': 'focos_diario_br_20241005.csv', 'link': 'https://dataserver-coids.inpe.br/queimadas/queimadas/focos/csv/diario/Brasil/focos_diario_br_20241005.csv'}, {'name': 'focos_diario_br_20241006.csv', 'link': 'https://dataserver-coids.inpe.br/queimadas/queimadas/focos/csv/diario/Brasil/focos_diario_br_20241006.csv'}, {'name': 'focos_diario_br_20241007.csv', 'link': 'https://dataserver-coids.inpe.br/queimadas/queimadas/focos/csv/diario/Brasil/focos_diario_br_20241007.csv'}]\n"
     ]
    }
   ],
   "source": [
    "soup_csv_list = get_page_content(URL, HEADERS)\n",
    "list_csvs = parse_csv_list(soup_csv_list)\n",
    "\n",
    "print(list_csvs)"
   ]
  },
  {
   "cell_type": "code",
   "execution_count": null,
   "metadata": {},
   "outputs": [],
   "source": [
    "# if response.status_code== 200:\n",
    "#     soup = BeautifulSoup(response.text, 'html.parser')\n",
    "#     csv_link = soup.find('a', {'href': True})['href']\n",
    "#     full_csv_link = f\"https://dataserver-coids.inpe.br/{csv_link}\"  # Adiciona o link completo ao csv_link\n",
    "#     csv_data = requests.get(full_csv_link).content\n",
    "#     df = pd.read_csv(pd.io.common.StringIO(csv_data.decode('utf-8')))\n",
    "#     print(df.head())\n",
    "# else:\n",
    "#     print(f\"Erro ao acessar a página: {response.status_code}\")"
   ]
  }
 ],
 "metadata": {
  "kernelspec": {
   "display_name": "Python 3",
   "language": "python",
   "name": "python3"
  },
  "language_info": {
   "codemirror_mode": {
    "name": "ipython",
    "version": 3
   },
   "file_extension": ".py",
   "mimetype": "text/x-python",
   "name": "python",
   "nbconvert_exporter": "python",
   "pygments_lexer": "ipython3",
   "version": "3.10.11"
  }
 },
 "nbformat": 4,
 "nbformat_minor": 2
}
