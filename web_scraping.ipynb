{
 "cells": [
  {
   "cell_type": "code",
   "execution_count": 1,
   "metadata": {},
   "outputs": [],
   "source": [
    "import requests\n",
    "from bs4 import BeautifulSoup\n",
    "import pandas as pd\n",
    "#from itertools import produt\n",
    "#from google.colab import files"
   ]
  },
  {
   "cell_type": "code",
   "execution_count": 2,
   "metadata": {},
   "outputs": [],
   "source": [
    "DOMAIN = \"https://dataserver-coids.inpe.br\"\n",
    "URL = f'{DOMAIN}/queimadas/queimadas/focos/csv/diario/Brasil/'\n",
    "HEADERS = {'User-Agent': 'Mozilla/5.0 (Windows NT 10.0; Win64; x64) AppleWebKit/537.36 (KHTML, like Gecko) Chrome/58.0.3029.110 Safari/537.36'}"
   ]
  },
  {
   "cell_type": "code",
   "execution_count": 3,
   "metadata": {},
   "outputs": [],
   "source": [
    "def get_page_content(url, headers):\n",
    "  response = requests.get(url, headers=headers).text\n",
    "  soup = BeautifulSoup(response, 'html.parser')\n",
    "  return soup"
   ]
  },
  {
   "cell_type": "code",
   "execution_count": 33,
   "metadata": {},
   "outputs": [],
   "source": [
    "def parse_csv_list(soup):\n",
    "  table = soup.find('div', {'class': 'table'})\n",
    "  list_csv = []\n",
    "  rows = table.find_all('div', class_ = 'row')\n",
    "\n",
    "  for row in rows:\n",
    "    name_cell = row.find('div', class_ = 'name').find(\"a\", href=lambda href: href and href.endswith(\".csv\"))\n",
    "    date_cell = row.find_all('div', class_ = 'cell fixed')[-1].text\n",
    "\n",
    "\n",
    "    if name_cell:\n",
    "      file_name =  name_cell.get_text(strip=True)\n",
    "      file_href = URL + name_cell['href']\n",
    "      file_date = date_cell.format(\"%d/%m/%Y %H:%M:%S\")\n",
    "\n",
    "      # print(file_date)\n",
    "\n",
    "      csv_data = {\n",
    "        'name': file_name,\n",
    "        'link': file_href,\n",
    "        'date': file_date\n",
    "      }\n",
    "      list_csv.append(csv_data)\n",
    "\n",
    "  return list_csv\n"
   ]
  },
  {
   "cell_type": "code",
   "execution_count": 34,
   "metadata": {},
   "outputs": [
    {
     "ename": "TypeError",
     "evalue": "'NoneType' object is not subscriptable",
     "output_type": "error",
     "traceback": [
      "\u001b[0;31m---------------------------------------------------------------------------\u001b[0m",
      "\u001b[0;31mTypeError\u001b[0m                                 Traceback (most recent call last)",
      "Cell \u001b[0;32mIn[34], line 2\u001b[0m\n\u001b[1;32m      1\u001b[0m soup_csv_list \u001b[38;5;241m=\u001b[39m get_page_content(URL, HEADERS)\n\u001b[0;32m----> 2\u001b[0m list_csvs \u001b[38;5;241m=\u001b[39m \u001b[43mparse_csv_list\u001b[49m\u001b[43m(\u001b[49m\u001b[43msoup_csv_list\u001b[49m\u001b[43m)\u001b[49m\n\u001b[1;32m      4\u001b[0m \u001b[38;5;66;03m# URL da página contendo o link para o CSV\u001b[39;00m\n\u001b[1;32m      5\u001b[0m url \u001b[38;5;241m=\u001b[39m list_csvs[\u001b[38;5;241m0\u001b[39m][\u001b[38;5;124m\"\u001b[39m\u001b[38;5;124mlink\u001b[39m\u001b[38;5;124m\"\u001b[39m]\n",
      "Cell \u001b[0;32mIn[33], line 7\u001b[0m, in \u001b[0;36mparse_csv_list\u001b[0;34m(soup)\u001b[0m\n\u001b[1;32m      4\u001b[0m rows \u001b[38;5;241m=\u001b[39m table\u001b[38;5;241m.\u001b[39mfind_all(\u001b[38;5;124m'\u001b[39m\u001b[38;5;124mdiv\u001b[39m\u001b[38;5;124m'\u001b[39m, class_ \u001b[38;5;241m=\u001b[39m \u001b[38;5;124m'\u001b[39m\u001b[38;5;124mrow\u001b[39m\u001b[38;5;124m'\u001b[39m)\n\u001b[1;32m      6\u001b[0m \u001b[38;5;28;01mfor\u001b[39;00m row \u001b[38;5;129;01min\u001b[39;00m rows:\n\u001b[0;32m----> 7\u001b[0m   name_cell \u001b[38;5;241m=\u001b[39m \u001b[43mrow\u001b[49m\u001b[38;5;241;43m.\u001b[39;49m\u001b[43mfind\u001b[49m\u001b[43m(\u001b[49m\u001b[38;5;124;43m'\u001b[39;49m\u001b[38;5;124;43mdiv\u001b[39;49m\u001b[38;5;124;43m'\u001b[39;49m\u001b[43m,\u001b[49m\u001b[43m \u001b[49m\u001b[43mclass_\u001b[49m\u001b[43m \u001b[49m\u001b[38;5;241;43m=\u001b[39;49m\u001b[43m \u001b[49m\u001b[38;5;124;43m'\u001b[39;49m\u001b[38;5;124;43mname\u001b[39;49m\u001b[38;5;124;43m'\u001b[39;49m\u001b[43m)\u001b[49m\u001b[38;5;241;43m.\u001b[39;49m\u001b[43mfind\u001b[49m\u001b[43m(\u001b[49m\u001b[38;5;124;43m\"\u001b[39;49m\u001b[38;5;124;43ma\u001b[39;49m\u001b[38;5;124;43m\"\u001b[39;49m\u001b[43m,\u001b[49m\u001b[43m \u001b[49m\u001b[43mhref\u001b[49m\u001b[38;5;241;43m=\u001b[39;49m\u001b[38;5;28;43;01mlambda\u001b[39;49;00m\u001b[43m \u001b[49m\u001b[43mhref\u001b[49m\u001b[43m:\u001b[49m\u001b[43m \u001b[49m\u001b[43mhref\u001b[49m\u001b[43m \u001b[49m\u001b[38;5;129;43;01mand\u001b[39;49;00m\u001b[43m \u001b[49m\u001b[43mhref\u001b[49m\u001b[38;5;241;43m.\u001b[39;49m\u001b[43mendswith\u001b[49m\u001b[43m(\u001b[49m\u001b[38;5;124;43m\"\u001b[39;49m\u001b[38;5;124;43m.csv\u001b[39;49m\u001b[38;5;124;43m\"\u001b[39;49m\u001b[43m)\u001b[49m\u001b[43m)\u001b[49m\u001b[43m[\u001b[49m\u001b[38;5;124;43m\"\u001b[39;49m\u001b[38;5;124;43mhref\u001b[39;49m\u001b[38;5;124;43m\"\u001b[39;49m\u001b[43m]\u001b[49m\n\u001b[1;32m      8\u001b[0m   date_cell \u001b[38;5;241m=\u001b[39m row\u001b[38;5;241m.\u001b[39mfind_all(\u001b[38;5;124m'\u001b[39m\u001b[38;5;124mdiv\u001b[39m\u001b[38;5;124m'\u001b[39m, class_ \u001b[38;5;241m=\u001b[39m \u001b[38;5;124m'\u001b[39m\u001b[38;5;124mcell fixed\u001b[39m\u001b[38;5;124m'\u001b[39m)[\u001b[38;5;241m-\u001b[39m\u001b[38;5;241m1\u001b[39m]\u001b[38;5;241m.\u001b[39mtext\n\u001b[1;32m     11\u001b[0m   \u001b[38;5;28;01mif\u001b[39;00m name_cell:\n",
      "\u001b[0;31mTypeError\u001b[0m: 'NoneType' object is not subscriptable"
     ]
    }
   ],
   "source": [
    "soup_csv_list = get_page_content(URL, HEADERS)\n",
    "list_csvs = parse_csv_list(soup_csv_list)\n",
    "\n",
    "# URL da página contendo o link para o CSV\n",
    "url = list_csvs[0][\"link\"]\n",
    "\n",
    "# Fazer a requisição da página\n",
    "response = requests.get(url)\n",
    "soup = BeautifulSoup(response.text, \"html.parser\")\n",
    "\n",
    "\n",
    "# Procurar pelo link do arquivo CSV\n",
    "# Aqui, estou assumindo que o link possui o texto 'Download CSV' e termina em '.csv'\n",
    "csv_link = soup.find(\"a\", href=lambda href: href and href.endswith(\".csv\"))[\"href\"]\n",
    "\n",
    "# Verificar se o link é relativo e, se for, combiná-lo com a URL base\n",
    "if not csv_link.startswith(\"http\"):\n",
    "    csv_link = url + csv_link\n",
    "\n",
    "# Fazer o download do arquivo CSV\n",
    "csv_response = requests.get(csv_link)\n",
    "csv_content = csv_response.content\n",
    "\n",
    "# Ler o CSV com o pandas (ou salvar o arquivo localmente)\n",
    "df = pd.read_csv(pd.compat.StringIO(csv_content.decode('utf-8')))\n",
    "\n",
    "# Mostrar as primeiras linhas do CSV\n",
    "print(df.head())"
   ]
  },
  {
   "cell_type": "code",
   "execution_count": null,
   "metadata": {},
   "outputs": [],
   "source": [
    "# if response.status_code== 200:\n",
    "#     soup = BeautifulSoup(response.text, 'html.parser')\n",
    "#     csv_link = soup.find('a', {'href': True})['href']\n",
    "#     full_csv_link = f\"https://dataserver-coids.inpe.br/{csv_link}\"  # Adiciona o link completo ao csv_link\n",
    "#     csv_data = requests.get(full_csv_link).content\n",
    "#     df = pd.read_csv(pd.io.common.StringIO(csv_data.decode('utf-8')))\n",
    "#     print(df.head())\n",
    "# else:\n",
    "#     print(f\"Erro ao acessar a página: {response.status_code}\")"
   ]
  }
 ],
 "metadata": {
  "kernelspec": {
   "display_name": ".venv",
   "language": "python",
   "name": "python3"
  },
  "language_info": {
   "codemirror_mode": {
    "name": "ipython",
    "version": 3
   },
   "file_extension": ".py",
   "mimetype": "text/x-python",
   "name": "python",
   "nbconvert_exporter": "python",
   "pygments_lexer": "ipython3",
   "version": "3.12.6"
  }
 },
 "nbformat": 4,
 "nbformat_minor": 2
}
